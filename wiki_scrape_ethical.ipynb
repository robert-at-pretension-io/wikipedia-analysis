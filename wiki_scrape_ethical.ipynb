{
 "cells": [
  {
   "cell_type": "markdown",
   "metadata": {},
   "source": [
    "### Import for days!\n",
    "Let's pull all of the libraries we'll need  for the project"
   ]
  },
  {
   "cell_type": "code",
   "execution_count": 25,
   "metadata": {
    "collapsed": true
   },
   "outputs": [],
   "source": [
    "# will this ever be used... the world will never know\n",
    "import tensorflow as tf\n",
    "\n",
    "import math\n",
    "\n",
    "# scrape wiki plaintext\n",
    "import wikipedia\n",
    "\n",
    "# to view word freq dist\n",
    "import matplotlib.pyplot\n",
    "import tkinter\n",
    "\n",
    "# store the articles so we don't annoy wikipedia (TODO)\n",
    "# (might change to database storage later)\n",
    "import _pickle as cPickle\n",
    "\n",
    "# trying database storage :)!\n",
    "import sqlite3\n",
    "\n",
    "# make pretty progress bars\n",
    "from tqdm import tnrange, tqdm_notebook\n",
    "from time import sleep\n",
    "\n",
    "# commonly used words...\n",
    "import re\n",
    "import os.path\n",
    "import urllib.request\n",
    "\n",
    "from stop_words import get_stop_words\n",
    "import nltk\n",
    "\n",
    "from nltk.corpus import stopwords"
   ]
  },
  {
   "cell_type": "markdown",
   "metadata": {},
   "source": [
    "### Let's get a list of common words and put them in one list/set\n",
    "\n",
    "__Todo__\n",
    "* Try Different sizes of the set (only top 1,000 stop words?)"
   ]
  },
  {
   "cell_type": "code",
   "execution_count": 2,
   "metadata": {},
   "outputs": [
    {
     "name": "stdout",
     "output_type": "stream",
     "text": [
      "[nltk_data] Downloading package stopwords to /home/robert/nltk_data...\n",
      "[nltk_data]   Package stopwords is already up-to-date!\n",
      "[nltk_data] Downloading package punkt to /home/robert/nltk_data...\n",
      "[nltk_data]   Package punkt is already up-to-date!\n",
      "already downloaded the common words list\n"
     ]
    }
   ],
   "source": [
    "nltk.download(\"stopwords\")\n",
    "nltk.download(\"punkt\")\n",
    "\n",
    "test = stopwords.words('english')\n",
    "\n",
    "common_words = get_stop_words(language='english', cache=True)\n",
    "\n",
    "fn = '10k_common.txt'\n",
    "\n",
    "# wow, so ethical!\n",
    "if os.path.isfile(fn):\n",
    "    print(\"already downloaded the common words list\")\n",
    "    myfile = open(fn, 'r')\n",
    "    most_common = [line for line in myfile.readlines()]\n",
    "else:\n",
    "    print('Let me download that common word list file for you!')\n",
    "    url = 'https://raw.githubusercontent.com/first20hours/google-10000-english/master/google-10000-english-usa.txt'\n",
    "    urllib.request.urlretrieve(url, filename=fn)\n",
    "    myfile = open(fn, 'r')\n",
    "    most_common = [line.strip() for line in myfile.readlines()]\n",
    "   \n",
    "# Awesome, concat_list contains all of the unique common words\n",
    "\n",
    "concat_list = list(set(s.lower().strip() for s in test + common_words + most_common))"
   ]
  },
  {
   "cell_type": "markdown",
   "metadata": {},
   "source": [
    "### Now let's download a wiki article\n",
    "\n",
    "__TO DO:__\n",
    "* make a local article caching system"
   ]
  },
  {
   "cell_type": "code",
   "execution_count": 3,
   "metadata": {},
   "outputs": [
    {
     "name": "stdout",
     "output_type": "stream",
     "text": [
      "\n",
      "===================\n",
      "Successfully downloaded wiki article( statistics )\n",
      "===================\n",
      " __SAMPLE__:\n",
      " Statistics is a branch of mathematics dealing with the collection, analysis, interpretation, present ...\n"
     ]
    }
   ],
   "source": [
    "my_topic = \"statistics\"\n",
    "\n",
    "article = wikipedia.page(title=my_topic,  auto_suggest=True, redirect=True, preload=False)\n",
    "\n",
    "# article.content is text of info on the page\n",
    "# article.link is a list of links\n",
    "# for more info go here: https://pypi.python.org/pypi/wikipedia/\n",
    "\n",
    "print(\"\\n===================\\nSuccessfully downloaded wiki article(\",\\\n",
    "      my_topic ,  \")\\n===================\\n __SAMPLE__:\\n\",article.content[0:100],\"...\")"
   ]
  },
  {
   "cell_type": "markdown",
   "metadata": {},
   "source": [
    "### Do some processesing on the article"
   ]
  },
  {
   "cell_type": "code",
   "execution_count": 4,
   "metadata": {},
   "outputs": [
    {
     "data": {
      "image/png": "[encoded data removed]",
      "text/plain": [
       "<matplotlib.figure.Figure at 0x7f31709d7f60>"
      ]
     },
     "metadata": {},
     "output_type": "display_data"
    },
    {
     "name": "stdout",
     "output_type": "stream",
     "text": [
      "\n",
      "===================\n",
      "The top 20 uncommon words in the article on statistics are: \n",
      "===================\n",
      "\n",
      "('estimators', 10) \n",
      "\n",
      "('observational', 10) \n",
      "\n",
      "('squares', 10) \n",
      "\n",
      "('statisticians', 7) \n",
      "\n",
      "('inferences', 7) \n",
      "\n",
      "('p-value', 6) \n",
      "\n",
      "('misuse', 6) \n",
      "\n",
      "('pearson', 6) \n",
      "\n",
      "('inference', 6) \n",
      "\n",
      "('estimator', 6) \n",
      "\n",
      "('manipulation', 5) \n",
      "\n",
      "('unbiased', 5) \n",
      "\n",
      "('categorical', 5) \n",
      "\n",
      "('e.g.', 5) \n",
      "\n",
      "('statistic', 5) \n",
      "\n",
      "('descriptive', 5) \n",
      "\n",
      "('he/she', 5) \n",
      "\n",
      "('inferential', 5) \n",
      "\n",
      "('h0', 5) \n",
      "\n",
      "('bayesian', 4) \n",
      "\n"
     ]
    }
   ],
   "source": [
    "tokens = nltk.word_tokenize(article.content)\n",
    "\n",
    "must_contain_some_letters = re.compile(\"[a-zA-Z]+\") # assuming corpus is latin alphabet (can update this assumption later)\n",
    "\n",
    "words = [w.lower() for w in tokens]\n",
    "\n",
    "# remove \"words\" that are only comprised of symbols and numbers only\n",
    "words = list(filter(must_contain_some_letters.match, words))\n",
    "\n",
    "# remove stop words\n",
    "words = [w for w in words if w not in concat_list]\n",
    "\n",
    "\n",
    "fd = nltk.FreqDist(words) \n",
    "n = 20\n",
    "fd.plot(n, cumulative=False) \n",
    "\n",
    "\n",
    "\n",
    "# sorts the most frequent words\n",
    "top_n_best_words_omg = []\n",
    "for w in set(words):\n",
    "    top_n_best_words_omg.append((w, words.count(w)))\n",
    "\n",
    "top_n_best_words_omg.sort(key=lambda x: x[1], reverse=True)\n",
    "# sort by the second element in the tuple\n",
    "\n",
    "print(\"\\n===================\\nThe top\", n ,\"uncommon words in the article on\" , my_topic, \"are: \\n===================\\n\")\n",
    "for i in range(n):\n",
    "    print(top_n_best_words_omg[i],\"\\n\")\n"
   ]
  },
  {
   "cell_type": "markdown",
   "metadata": {},
   "source": [
    "### Found a pretrained model called Glove on the internets (it's a very large word embedding model)\n",
    "\n",
    "Simply put, word embeddings are numeric vector representations of words.\n",
    "\n",
    "An example of this would be -- let the word \"apple\" be represented by the vector [1,0] and let every other word be represented by [0,1].\n",
    "\n",
    "Although this is a word embedding, clearly, we can do better.\n",
    "\n",
    "To read more about how Glove is fit to the data ;) go to [stanford ...'s website](https://nlp.stanford.edu/projects/glove/)\n",
    "\n",
    "\n",
    "### GLOVE IS HUGE (~6gig text file)\n",
    "\n",
    "So we're going to store it in an sqlite3 database!\n",
    "\n",
    "__TODO__:\n",
    "* write helper functions for database: enter (unique) data, extract data\n"
   ]
  },
  {
   "cell_type": "code",
   "execution_count": 5,
   "metadata": {
    "collapsed": true
   },
   "outputs": [],
   "source": [
    "# Database helper function\n",
    "def table_exists(file_name, table_name):\n",
    "    connection = sqlite3.connect(file_name)\n",
    "    cur = connection.cursor()\n",
    "    table_name = (table_name,)\n",
    "    cur.execute('SELECT COUNT(*) from sqlite_master where type = \\'table\\' and name = ? ', table_name )\n",
    "    result = cur.fetchone()\n",
    "    connection.close()\n",
    "    return result[0] == 1"
   ]
  },
  {
   "cell_type": "code",
   "execution_count": 6,
   "metadata": {
    "collapsed": true
   },
   "outputs": [],
   "source": [
    "# table information\n",
    "\n",
    "sqlite_file = 'word_embedding_project.sqlite'\n",
    "\n",
    "# table info must be a list of tuples containing column name and type\n",
    "\n",
    "table1_name = 'glove_word_embeddings'\n",
    "table1_info = [('word','VARCHAR(50)')\\\n",
    "              ,('embedding','VARCHAR(1500)')]\n",
    "\n",
    "table2_name = 'wiki_articles'\n",
    "table2_info = [('title','content')]"
   ]
  },
  {
   "cell_type": "code",
   "execution_count": 7,
   "metadata": {
    "collapsed": true
   },
   "outputs": [],
   "source": [
    "\n",
    "def create_table(file_name, table_name, list_of_tuple_column_name_type):\n",
    "    if table_exists(file_name,table_name):\n",
    "        print(\"table \\'{}\\' already exists, carrying on\".format(table_name))\n",
    "    else :\n",
    "        connection = sqlite3.connect(file_name)\n",
    "        c = connection.cursor()\n",
    "        #print(\"------------------\\nopened...\", table_name)\n",
    "        \n",
    "        exe = 'CREATE TABLE ' + table_name + ' (' + ', '.join([i[0] +\\\n",
    "            ' ' +  i[1] for i in list_of_tuple_column_name_type]) + ' )'\n",
    "\n",
    "        #print('\\n :: sending SQL :: ' + exe + '\\n')     \n",
    "        \n",
    "        c.execute('{}'.format(exe) )\n",
    "        connection.close()\n",
    "        #print(\"closed...\", table_name, \"\\n------------------\\n\")\n",
    "\n",
    "def get_column_names(file_name,table_name):\n",
    "        connection = sqlite3.connect(file_name)\n",
    "        c = connection.cursor()\n",
    "        #print(\"------------------\\nopened table:\", table_name)\n",
    "        \n",
    "        exe = 'PRAGMA TABLE_INFO({})'.format(table_name)\n",
    "        \n",
    "        #print('\\n :: sending SQL :: ' + exe + '\\n')     \n",
    "        c.execute('{}'.format(exe) )\n",
    "        # result is a tuple, result[1] contains the table name\n",
    "        names = [result[1] for result in c.fetchall()]\n",
    "        \n",
    "        connection.close()\n",
    "        #print(\"closed table: \", table_name , \"\\n------------------\\n\")\n",
    "        return names\n",
    "        \n",
    "def insert_data(file_name,table_name,list_of_tuple_data,\\\n",
    "                 unique_column_name):\n",
    "        connection = sqlite3.connect(file_name)\n",
    "        c = connection.cursor()\n",
    "        #print(\"------------------\\nopened...\", connection)\n",
    "        # somewhere in here we will check to see that the data is unique\n",
    "        column_names = get_column_names(file_name,table_name)\n",
    "        index_of_unique_column = column_names.index(unique_column_name)\n",
    "        check_this_data = [i[index_of_unique_column] for i in list_of_tuple_data]\n",
    "        \n",
    "        my_unique_data = get_unique(file_name,table_name,check_this_data,unique_column_name)\n",
    "        \n",
    "        #print(my_unique_data)\n",
    "        \n",
    "        #add_these contains the unique entries that we'll add to the database!\n",
    "        add_these = [i for i in list_of_tuple_data if my_unique_data.count(i[index_of_unique_column]) == 1]\n",
    "        \n",
    "        list_of_tuple_data = add_these\n",
    "        \n",
    "        if len(add_these) > 0:\n",
    "            num_question_marks = len(list_of_tuple_data[0])\n",
    "            exe = 'INSERT INTO ' + table_name + ' VALUES (' +\\\n",
    "            ','.join(['?' for i in range(num_question_marks)]) + ')'\n",
    "\n",
    "            #print('\\n :: sending SQL :: ' + exe + '\\n')     \n",
    "\n",
    "            c.executemany('{}'.format(exe),list_of_tuple_data )\n",
    "            connection.commit()\n",
    "        else:\n",
    "            print(\"nothing new to add :(\")\n",
    "        \n",
    "        connection.close()\n",
    "        #print(\"closed...\\n------------------\\n\", table_name)\n",
    "        \n",
    "\n",
    "def get_unique(file_name,table_name,list_of_data, unique_column):\n",
    "        unique_list_of_tuple_data = []\n",
    "        \n",
    "        connection = sqlite3.connect(file_name)\n",
    "        c = connection.cursor()\n",
    "        \n",
    "        for i in list_of_data:\n",
    "            exe = 'SELECT count(*) FROM ' + table_name + ' WHERE ' + unique_column + ' = \\'' + i +'\\''\n",
    "            #print('\\n :: sending SQL :: ' + exe + '\\n') \n",
    "            c.execute('{}'.format(exe))\n",
    "            if c.fetchone()[0] > 0 :\n",
    "                print(\"The data:\\'\"  + i + \"\\' already exists in the database\")\n",
    "            else :\n",
    "                #print(\"Adding data: \", i , \" to database\")\n",
    "                unique_list_of_tuple_data.append(i) \n",
    "        \n",
    "        connection.close()\n",
    "        return unique_list_of_tuple_data\n",
    "\n",
    "def print_stored(file_name,table_name):\n",
    "        connection = sqlite3.connect(file_name)\n",
    "        c = connection.cursor()\n",
    "        #print(\"------------------\\nopened...\", connection)\n",
    "\n",
    "        exe = 'SELECT * FROM ' + table_name \n",
    "        #print('\\n :: sending SQL :: ' + exe + '\\n')     \n",
    "        \n",
    "        for row in c.execute('{}'.format(exe)):\n",
    "            print(row)\n",
    "        \n",
    "        connection.close()\n",
    "        #print(\"closed...\\n------------------\\n\", table_name\n",
    "        \n",
    "\n"
   ]
  },
  {
   "cell_type": "code",
   "execution_count": 32,
   "metadata": {
    "scrolled": true
   },
   "outputs": [
    {
     "name": "stdout",
     "output_type": "stream",
     "text": [
      "table 'glove_word_embeddings' already exists, carrying on\n",
      "table 'wiki_articles' already exists, carrying on\n",
      "The data:'test_word1' already exists in the database\n",
      "The data:'test_word2' already exists in the database\n",
      "The data:'test_word3' already exists in the database\n",
      "nothing new to add :(\n"
     ]
    }
   ],
   "source": [
    "\n",
    "create_table(sqlite_file,table1_name,table1_info)\n",
    "\n",
    "create_table(sqlite_file,table2_name,table2_info)\n",
    "\n",
    "\n",
    "insert_data(sqlite_file,table1_name,[('test_word1','embedding_00001')\\\n",
    "                                    ,('test_word2','embedding_00002')\\\n",
    "                                    ,('test_word3','embedding_00003')],\\\n",
    "           'word')\n",
    "\n",
    "#print_stored(sqlite_file,table1_name)\n",
    "\n",
    "# get_unique(sqlite_file,table1_name,['test_word1','test_word2','test_word_3'],unique_column='word')\n",
    "\n",
    "num_lines = None"
   ]
  },
  {
   "cell_type": "markdown",
   "metadata": {},
   "source": [
    "__TODO__\n",
    "* extract the embeddings of the common words dataset\n",
    "* do tsne on the embeddings\n",
    "\n",
    "\n",
    "## Now that we have some database helper functions, let's insert the glove embeddings into the database"
   ]
  },
  {
   "cell_type": "code",
   "execution_count": 82,
   "metadata": {},
   "outputs": [
    {
     "data": {
      "application/vnd.jupyter.widget-view+json": {
       "model_id": "e6ae676bef32490f8a121c50b568e5bf"
      }
     },
     "metadata": {},
     "output_type": "display_data"
    },
    {
     "name": "stdout",
     "output_type": "stream",
     "text": [
      "300\n",
      "300\n",
      "300\n",
      "300\n",
      "300\n",
      "300\n",
      "300\n",
      "301\n",
      "8  : \n",
      "Word: z \n",
      "My embed: 28 0.7344 -0.33641 0.26918 0.41843 -0.189 0.2802 0.23875 -0.12879 -0.15797 -1.2841 0.33532 -0.31047 0.72732 0.31546 0.71186 0.19048 -0.042019 -0.074581 0.45085 0.44498 -0.1904 -0.3766 0.49905 -0.028839 -0.20881 0.01066 0.25383 -0.0041936 -0.38734 0.32464 0.55693 -0.83097 -0.03571 0.24106 -0.6569 0.57372 -0.56636 -0.34669 0.23249 0.001781 0.19858 -0.074999 0.046491 -0.32702 -0.22864 0.2175 0.89353 -0.35827 -0.41881 -0.6151 -0.049783 -0.68134 -0.11981 -0.40551 0.96578 0.26983 -0.31023 -0.65689 0.065648 0.026246 -0.69145 -0.21135 0.31764 -1.0328 -0.64371 0.2877 -0.089071 -0.54376 -0.14109 -0.17937 0.35235 -0.55115 -0.55691 0.21101 -0.21912 -0.51552 -0.24145 0.2055 -0.37466 -0.25949 -0.84854 -0.060169 0.45496 -0.086216 -0.012816 0.69526 1.2326 -0.30129 -0.60421 -0.27917 -0.031972 -1.0298 0.13614 0.51755 -0.40155 0.91298 0.08289 0.74463 0.87894 0.35653 -0.33584 0.89456 -0.19836 -0.20825 -1.1171 -0.74503 -0.10777 -0.45809 -0.13718 -0.22515 -0.3577 0.15066 -0.59936 -0.56913 0.52891 -0.049442 -0.61265 -0.14471 -0.066943 -0.57421 0.11011 -0.58192 -0.20271 -0.19866 -0.16494 1.6559 -0.50636 0.30445 0.46664 -0.31633 -0.52518 -0.23178 -0.01507 0.16218 1.0241 -0.42143 0.86248 -0.42621 -0.43544 0.31946 0.8 0.0011398 0.22613 0.1298 -0.14934 0.27283 -0.46231 0.17721 -0.24175 0.39047 -0.070666 -0.46399 0.13836 -0.055565 -0.39398 0.8866 -0.066249 0.36939 -0.81058 0.11005 0.37153 -0.0012728 0.48998 0.43038 1.0236 -0.50739 -0.86532 0.33877 0.17491 0.6188 0.3559 -0.2359 0.28746 0.83032 0.43051 -0.23532 -0.10999 -0.17347 -0.75788 -0.18558 0.38949 0.25863 -0.20428 -0.35266 0.40225 0.11295 0.18793 -0.72468 0.46471 0.43722 0.88695 -0.34572 0.084704 0.31336 0.073734 0.35295 0.62881 0.15037 0.68064 -0.90605 -0.2311 0.30949 -0.082686 -0.1367 -0.34168 -0.90241 0.23875 0.051067 0.15459 0.63191 -0.30838 1.1037 0.42234 0.53536 -1.4199 0.30107 0.29035 -0.7074 0.088202 -0.54826 -0.13028 -0.055707 0.23455 -0.44881 -0.14154 0.30395 0.72527 -0.070906 0.14271 -0.5688 -0.36508 0.40361 -0.68058 0.37268 0.067953 0.10169 -0.37861 0.4273 -0.0017937 0.84402 -0.68756 -0.9725 -1.0093 -0.12518 0.075584 0.32589 1.1193 0.15558 0.10085 0.86297 0.22554 -0.1101 0.14519 0.62782 0.1702 -0.31207 -0.4023 -0.19637 0.24217 -0.24255 -0.71338 -0.81587 0.6187 -0.23057 -0.1051 0.21465 0.086559 -0.89232 -0.64525 0.81889 0.41085 -0.73252 0.44039 0.031819 -0.53991 -0.32551 -0.36456 -0.27203 -0.06308 -0.47751 -0.35176 0.06613 0.56049 -0.46305 -0.26471 0.48699 0.53275 0.67011 -0.82331 0.41982 -0.31101 -0.98955 0.27627 0.25265 0.47931 -0.48432 -1.0055 0.63718 -0.13914 -0.16472\n",
      "\n",
      "300\n",
      "300\n",
      "\n"
     ]
    }
   ],
   "source": [
    "import linecache\n",
    "import re\n",
    "\n",
    "batch_size = 100 # insert this many words at a time into the database (play around with different numbers)\n",
    "file_name = 'tail.txt'\n",
    "error_file = 'errors.txt'\n",
    "\n",
    "# regex to match word/embedding\n",
    "# tested on regex101.com\n",
    "# ^(?P<word>[\\w.]+)(?P<embedding>[-.\\s\\d]+)$\n",
    "word = re.compile(r\"^(?P<word>[\\w.]+)\")\n",
    "embedding = re.compile(\"\\s[-.\\s\\d]+\")\n",
    "num_lines = sum(1 for line in open(file_name))\n",
    "\n",
    "loops = math.ceil(num_lines/batch_size)\n",
    "for i in tqdm_notebook(range(loops),desc='working through files' ):\n",
    "    for off_set in range(batch_size):\n",
    "        line_num = (100*(i))+off_set + 1;\n",
    "        \n",
    "        if line_num > num_lines:\n",
    "            break\n",
    "        else:\n",
    "            my_line = linecache.getline(file_name,line_num)\n",
    "            m = word.match(my_line)\n",
    "            my_word = m.group(0)\n",
    "            my_embed = my_line[m.end()+1:]\n",
    "            \n",
    "            embedding.match(my_line)\n",
    "                    \n",
    "            number = len(my_embed.split())\n",
    "            if number != 300:\n",
    "                print(line_num,' : \\nWord:', my_word, '\\nMy embed:', my_embed )\n"
   ]
  },
  {
   "cell_type": "code",
   "execution_count": null,
   "metadata": {
    "collapsed": true
   },
   "outputs": [],
   "source": []
  }
 ],
 "metadata": {
  "kernelspec": {
   "display_name": "Python 3",
   "language": "python",
   "name": "python3"
  },
  "language_info": {
   "codemirror_mode": {
    "name": "ipython",
    "version": 3
   },
   "file_extension": ".py",
   "mimetype": "text/x-python",
   "name": "python",
   "nbconvert_exporter": "python",
   "pygments_lexer": "ipython3",
   "version": "3.5.2+"
  }
 },
 "nbformat": 4,
 "nbformat_minor": 2
}
