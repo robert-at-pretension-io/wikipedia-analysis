{
 "cells": [
  {
   "cell_type": "markdown",
   "metadata": {},
   "source": [
    "### Import for days!\n",
    "Let's pull all of the libraries we'll need  for the project"
   ]
  },
  {
   "cell_type": "code",
   "execution_count": 1,
   "metadata": {
    "collapsed": true
   },
   "outputs": [],
   "source": [
    "# will this ever be used... the world will never know\n",
    "import tensorflow as tf\n",
    "\n",
    "import math\n",
    "\n",
    "# scrape wiki plaintext\n",
    "import wikipedia\n",
    "\n",
    "# to view word freq dist\n",
    "import matplotlib.pyplot\n",
    "import tkinter\n",
    "\n",
    "# store the articles so we don't annoy wikipedia (TODO)\n",
    "# (might change to database storage later)\n",
    "import _pickle as cPickle\n",
    "\n",
    "# trying database storage :)!\n",
    "import sqlite3\n",
    "\n",
    "# make pretty progress bars\n",
    "from tqdm import tnrange, tqdm_notebook\n",
    "from time import sleep\n",
    "\n",
    "# commonly used words...\n",
    "import re\n",
    "import os.path\n",
    "import urllib.request\n",
    "\n",
    "from stop_words import get_stop_words\n",
    "import nltk\n",
    "\n",
    "from nltk.corpus import stopwords"
   ]
  },
  {
   "cell_type": "markdown",
   "metadata": {},
   "source": [
    "### Let's get a list of common words and put them in one list/set\n",
    "\n",
    "__Todo__\n",
    "* Try Different sizes of the set (only top 1,000 stop words?)"
   ]
  },
  {
   "cell_type": "code",
   "execution_count": 2,
   "metadata": {},
   "outputs": [
    {
     "name": "stdout",
     "output_type": "stream",
     "text": [
      "[nltk_data] Downloading package stopwords to /home/robert/nltk_data...\n",
      "[nltk_data]   Package stopwords is already up-to-date!\n",
      "[nltk_data] Downloading package punkt to /home/robert/nltk_data...\n",
      "[nltk_data]   Package punkt is already up-to-date!\n",
      "already downloaded the common words list\n"
     ]
    }
   ],
   "source": [
    "nltk.download(\"stopwords\")\n",
    "nltk.download(\"punkt\")\n",
    "\n",
    "test = stopwords.words('english')\n",
    "\n",
    "common_words = get_stop_words(language='english', cache=True)\n",
    "\n",
    "fn = '10k_common.txt'\n",
    "\n",
    "# wow, so ethical!\n",
    "if os.path.isfile(fn):\n",
    "    print(\"already downloaded the common words list\")\n",
    "    myfile = open(fn, 'r')\n",
    "    most_common = [line for line in myfile.readlines()]\n",
    "else:\n",
    "    print('Let me download that common word list file for you!')\n",
    "    url = 'https://raw.githubusercontent.com/first20hours/google-10000-english/master/google-10000-english-usa.txt'\n",
    "    urllib.request.urlretrieve(url, filename=fn)\n",
    "    myfile = open(fn, 'r')\n",
    "    most_common = [line.strip() for line in myfile.readlines()]\n",
    "   \n",
    "# Awesome, concat_list contains all of the unique common words\n",
    "\n",
    "concat_list = list(set(s.lower().strip() for s in test + common_words + most_common))"
   ]
  },
  {
   "cell_type": "markdown",
   "metadata": {},
   "source": [
    "### Now let's download a wiki article\n",
    "\n",
    "__TO DO:__\n",
    "* make a local article caching system"
   ]
  },
  {
   "cell_type": "code",
   "execution_count": 3,
   "metadata": {},
   "outputs": [
    {
     "name": "stdout",
     "output_type": "stream",
     "text": [
      "\n",
      "===================\n",
      "Successfully downloaded wiki article( math )\n",
      "===================\n",
      " __SAMPLE__:\n",
      " Mathematics (from Greek μάθημα máthēma, “knowledge, study, learning”) is the study of topics such as ...\n"
     ]
    }
   ],
   "source": [
    "my_topic = \"math\"\n",
    "\n",
    "article = wikipedia.page(title=my_topic,  auto_suggest=True, redirect=True, preload=False)\n",
    "\n",
    "# article.content is text of info on the page\n",
    "# article.link is a list of links\n",
    "# for more info go here: https://pypi.python.org/pypi/wikipedia/\n",
    "\n",
    "print(\"\\n===================\\nSuccessfully downloaded wiki article(\",\\\n",
    "      my_topic ,  \")\\n===================\\n __SAMPLE__:\\n\",article.content[0:100],\"...\")"
   ]
  },
  {
   "cell_type": "markdown",
   "metadata": {},
   "source": [
    "### Do some processesing on the article"
   ]
  },
  {
   "cell_type": "code",
   "execution_count": 4,
   "metadata": {},
   "outputs": [
    {
     "data": {
      "image/png": "[encoded data removed]",
      "text/plain": [
       "<matplotlib.figure.Figure at 0x7fb4b44eae10>"
      ]
     },
     "metadata": {},
     "output_type": "display_data"
    },
    {
     "name": "stdout",
     "output_type": "stream",
     "text": [
      "\n",
      "===================\n",
      "The top 20 uncommon words in the article on math are: \n",
      "===================\n",
      "\n",
      "('mathematicians', 22) \n",
      "\n",
      "('topology', 9) \n",
      "\n",
      "('axioms', 8) \n",
      "\n",
      "('rigorous', 8) \n",
      "\n",
      "('theorems', 7) \n",
      "\n",
      "('notation', 6) \n",
      "\n",
      "('rigor', 6) \n",
      "\n",
      "('axiomatic', 6) \n",
      "\n",
      "('hilbert', 6) \n",
      "\n",
      "('arithmetic', 6) \n",
      "\n",
      "('proofs', 5) \n",
      "\n",
      "('algebraic', 5) \n",
      "\n",
      "('conjecture', 5) \n",
      "\n",
      "('axiomatization', 4) \n",
      "\n",
      "('aesthetic', 4) \n",
      "\n",
      "('plural', 4) \n",
      "\n",
      "('gödel', 4) \n",
      "\n",
      "('formulas', 4) \n",
      "\n",
      "('integers', 4) \n",
      "\n",
      "('conjectures', 4) \n",
      "\n"
     ]
    }
   ],
   "source": [
    "tokens = nltk.word_tokenize(article.content)\n",
    "\n",
    "must_contain_some_letters = re.compile(\"[a-zA-Z]+\") # assuming corpus is latin alphabet (can update this assumption later)\n",
    "\n",
    "words = [w.lower() for w in tokens]\n",
    "\n",
    "# remove \"words\" that are only comprised of symbols and numbers only\n",
    "words = list(filter(must_contain_some_letters.match, words))\n",
    "\n",
    "# remove stop words\n",
    "words = [w for w in words if w not in concat_list]\n",
    "\n",
    "\n",
    "fd = nltk.FreqDist(words) \n",
    "n = 20\n",
    "fd.plot(n, cumulative=False) \n",
    "\n",
    "\n",
    "\n",
    "# sorts the most frequent words\n",
    "top_n_best_words_omg = []\n",
    "for w in set(words):\n",
    "    top_n_best_words_omg.append((w, words.count(w)))\n",
    "\n",
    "top_n_best_words_omg.sort(key=lambda x: x[1], reverse=True)\n",
    "# sort by the second element in the tuple\n",
    "\n",
    "print(\"\\n===================\\nThe top\", n ,\"uncommon words in the article on\" , my_topic, \"are: \\n===================\\n\")\n",
    "for i in range(n):\n",
    "    print(top_n_best_words_omg[i],\"\\n\")\n"
   ]
  },
  {
   "cell_type": "markdown",
   "metadata": {},
   "source": [
    "### Found a pretrained model called Glove on the internets (it's a very large word embedding model)\n",
    "\n",
    "Simply put, word embeddings are numeric vector representations of words.\n",
    "\n",
    "An example of this would be -- let the word \"apple\" be represented by the vector [1,0] and let every other word be represented by [0,1].\n",
    "\n",
    "Although this is a word embedding, clearly, we can do better.\n",
    "\n",
    "To read more about how Glove is fit to the data ;) go to [stanford ...'s website](https://nlp.stanford.edu/projects/glove/)\n",
    "\n",
    "\n",
    "### GLOVE IS HUGE (~6gig text file)\n",
    "\n",
    "So we're going to store it in an sqlite3 database!\n",
    "\n",
    "__TODO__:\n",
    "* write helper functions for database: enter (unique) data, extract data\n"
   ]
  },
  {
   "cell_type": "code",
   "execution_count": 5,
   "metadata": {
    "collapsed": true
   },
   "outputs": [],
   "source": [
    "# Database helper function\n",
    "def table_exists(file_name, table_name):\n",
    "    connection = sqlite3.connect(file_name)\n",
    "    cur = connection.cursor()\n",
    "    table_name = (table_name,)\n",
    "    cur.execute('SELECT COUNT(*) from sqlite_master where type = \\'table\\' and name = ? ', table_name )\n",
    "    result = cur.fetchone()\n",
    "    connection.close()\n",
    "    return result[0] == 1"
   ]
  },
  {
   "cell_type": "code",
   "execution_count": 6,
   "metadata": {
    "collapsed": true
   },
   "outputs": [],
   "source": [
    "# table information\n",
    "\n",
    "sqlite_file = 'word_embedding_project.sqlite'\n",
    "\n",
    "# table info must be a list of tuples containing column name and type\n",
    "\n",
    "table1_name = 'glove_word_embeddings'\n",
    "table1_info = [('word','VARCHAR(50)')\\\n",
    "              ,('embedding','VARCHAR(1500)')]\n",
    "\n",
    "table2_name = 'wiki_articles'\n",
    "table2_info = [('title','content')]"
   ]
  },
  {
   "cell_type": "code",
   "execution_count": 63,
   "metadata": {},
   "outputs": [],
   "source": [
    "\n",
    "def create_table(file_name, table_name, list_of_tuple_column_name_type):\n",
    "    if table_exists(file_name,table_name):\n",
    "        print(\"table \\'{}\\' already exists, carrying on\".format(table_name))\n",
    "    else :\n",
    "        connection = sqlite3.connect(file_name)\n",
    "        c = connection.cursor()\n",
    "        #print(\"------------------\\nopened...\", table_name)\n",
    "        \n",
    "        exe = 'CREATE TABLE ' + table_name + ' (' + ', '.join([i[0] +\\\n",
    "            ' ' +  i[1] for i in list_of_tuple_column_name_type]) + ' )'\n",
    "\n",
    "        #print('\\n :: sending SQL :: ' + exe + '\\n')     \n",
    "        \n",
    "        c.execute('{}'.format(exe) )\n",
    "        connection.close()\n",
    "        #print(\"closed...\", table_name, \"\\n------------------\\n\")\n",
    "\n",
    "def get_column_names(file_name,table_name):\n",
    "        connection = sqlite3.connect(file_name)\n",
    "        c = connection.cursor()\n",
    "        #print(\"------------------\\nopened table:\", table_name)\n",
    "        \n",
    "        exe = 'PRAGMA TABLE_INFO({})'.format(table_name)\n",
    "        \n",
    "        #print('\\n :: sending SQL :: ' + exe + '\\n')     \n",
    "        c.execute('{}'.format(exe) )\n",
    "        # result is a tuple, result[1] contains the table name\n",
    "        names = [result[1] for result in c.fetchall()]\n",
    "        \n",
    "        connection.close()\n",
    "        #print(\"closed table: \", table_name , \"\\n------------------\\n\")\n",
    "        return names\n",
    "        \n",
    "def insert_data(file_name,table_name,list_of_tuple_data,\\\n",
    "                 unique_column_name):\n",
    "        connection = sqlite3.connect(file_name)\n",
    "        c = connection.cursor()\n",
    "        #print(\"------------------\\nopened...\", connection)\n",
    "        # somewhere in here we will check to see that the data is unique\n",
    "        column_names = get_column_names(file_name,table_name)\n",
    "        index_of_unique_column = column_names.index(unique_column_name)\n",
    "        check_this_data = [i[index_of_unique_column] for i in list_of_tuple_data]\n",
    "        \n",
    "        my_unique_data = get_unique(file_name,table_name,check_this_data,unique_column_name)\n",
    "        \n",
    "        #print(my_unique_data)\n",
    "        \n",
    "        #add_these contains the unique entries that we'll add to the database!\n",
    "        add_these = [i for i in list_of_tuple_data if my_unique_data.count(i[index_of_unique_column]) == 1]\n",
    "        \n",
    "        list_of_tuple_data = add_these\n",
    "        \n",
    "        if len(add_these) > 0:\n",
    "            num_question_marks = len(list_of_tuple_data[0])\n",
    "            exe = 'INSERT INTO ' + table_name + ' VALUES (' +\\\n",
    "            ','.join(['?' for i in range(num_question_marks)]) + ')'\n",
    "\n",
    "            #print('\\n :: sending SQL :: ' + exe + '\\n')     \n",
    "\n",
    "            c.executemany('{}'.format(exe),list_of_tuple_data )\n",
    "            connection.commit()\n",
    "        else:\n",
    "            print(\"nothing new to add :(\")\n",
    "        \n",
    "        connection.close()\n",
    "        #print(\"closed...\\n------------------\\n\", table_name)\n",
    "        \n",
    "\n",
    "def get_unique(file_name,table_name,list_of_data, unique_column):\n",
    "        unique_list_of_tuple_data = []\n",
    "        \n",
    "        connection = sqlite3.connect(file_name)\n",
    "        c = connection.cursor()\n",
    "        \n",
    "        for i in list_of_data:\n",
    "            exe = 'SELECT count(*) FROM ' + table_name + ' WHERE ' + unique_column + ' = \\'' + i +'\\''\n",
    "            print('\\n :: sending SQL :: ' + exe + '\\n') \n",
    "            c.execute('{}'.format(exe))\n",
    "            if c.fetchone()[0] > 0 :\n",
    "                print(\"The data:\\'\"  + i + \"\\' already exists in the database\")\n",
    "            else :\n",
    "                #print(\"Adding data: \", i , \" to database\")\n",
    "                unique_list_of_tuple_data.append(i) \n",
    "        \n",
    "        connection.close()\n",
    "        return unique_list_of_tuple_data\n",
    "\n",
    "def print_stored(file_name,table_name):\n",
    "        connection = sqlite3.connect(file_name)\n",
    "        c = connection.cursor()\n",
    "        #print(\"------------------\\nopened...\", connection)\n",
    "\n",
    "        exe = 'SELECT * FROM ' + table_name \n",
    "        #print('\\n :: sending SQL :: ' + exe + '\\n')     \n",
    "        \n",
    "        for row in c.execute('{}'.format(exe)):\n",
    "            print(row)\n",
    "        \n",
    "        connection.close()\n",
    "        #print(\"closed...\\n------------------\\n\", table_name\n",
    "        \n",
    "\n"
   ]
  },
  {
   "cell_type": "code",
   "execution_count": 47,
   "metadata": {
    "scrolled": true
   },
   "outputs": [],
   "source": [
    "\n",
    "create_table(sqlite_file,table1_name,table1_info)\n",
    "\n",
    "create_table(sqlite_file,table2_name,table2_info)\n",
    "\n",
    "\n",
    "insert_data(sqlite_file,table1_name,[('test_word1','embedding_00001')\\\n",
    "                                    ,('test_word2','embedding_00002')\\\n",
    "                                    ,('test_word3','embedding_00003')],\\\n",
    "           'word')\n",
    "\n",
    "#print_stored(sqlite_file,table1_name)\n",
    "\n",
    "# get_unique(sqlite_file,table1_name,['test_word1','test_word2','test_word_3'],unique_column='word')\n",
    "\n",
    "num_lines = None"
   ]
  },
  {
   "cell_type": "markdown",
   "metadata": {},
   "source": [
    "__TODO__\n",
    "* extract the embeddings of the common words dataset\n",
    "* do tsne on the embeddings\n",
    "\n",
    "\n",
    "## Now that we have some database helper functions, let's insert the glove embeddings into the database"
   ]
  },
  {
   "cell_type": "code",
   "execution_count": null,
   "metadata": {},
   "outputs": [],
   "source": [
    "import re\n",
    "batch_size = 20000 # insert this many words at a time into the database (play around with different numbers)\n",
    "file_name = 'glove.840B.300d.txt'\n",
    "error_file = 'errors.txt'\n",
    "\n",
    "alphabet = re.compile(r\"^[a-zA-Z]+$\")\n",
    "\n",
    "\n",
    "buffer = []\n",
    "with open(file_name,\"r\") as fn:\n",
    "    for line in fn:\n",
    "        if (len(buffer) != 0) & (len(buffer) % batch_size == 0):\n",
    "            insert_data(sqlite_file,table1_name,buffer,'word')\n",
    "            buffer = []\n",
    "    \n",
    "        split_line = line.split(\" \",1)\n",
    "        word = split_line[0]\n",
    "        \n",
    "        if alphabet.match(word) == None :\n",
    "            print(\"need alphabet chars! just look at this so called 'word': \", word)\n",
    "            with open(error_file,\"a\") as ef:\n",
    "                print(\"oh nooooo, errrrror\")\n",
    "                print(word + embedding)\n",
    "                ef.write(word + \" \" + embedding)\n",
    "                ef.close()\n",
    "        else :\n",
    "            print(\"Now this is a proper word: \", word)\n",
    "        \n",
    "        embedding_split = split_line[1].split(\" \")\n",
    "        embedding = split_line[1]\n",
    "        if (len(embedding_split) == 300):\n",
    "            buffer.append((word, embedding))\n",
    "            #print(\"appended:\" + word + \"\\nbuffer now has \" + str(len(buffer)) + \" elements in it.\")\n",
    "\n",
    "        else:\n",
    "            with open(error_file,\"a\") as ef:\n",
    "                print(\"oh nooooo, errrrror\")\n",
    "                print(word + embedding)\n",
    "                ef.write(word + \" \" + embedding)\n",
    "                ef.close()\n",
    "\n",
    "if (len(buffer) != 0):\n",
    "    insert_data(sqlite_file,table1_name,buffer,'word')\n",
    "    buffer = []"
   ]
  },
  {
   "cell_type": "code",
   "execution_count": 27,
   "metadata": {},
   "outputs": [
    {
     "data": {
      "text/plain": [
       "'word_embedding_project.sqlite'"
      ]
     },
     "execution_count": 27,
     "metadata": {},
     "output_type": "execute_result"
    }
   ],
   "source": [
    "sqlite_file"
   ]
  }
 ],
 "metadata": {
  "kernelspec": {
   "display_name": "Python 3",
   "language": "python",
   "name": "python3"
  },
  "language_info": {
   "codemirror_mode": {
    "name": "ipython",
    "version": 3
   },
   "file_extension": ".py",
   "mimetype": "text/x-python",
   "name": "python",
   "nbconvert_exporter": "python",
   "pygments_lexer": "ipython3",
   "version": "3.5.2+"
  }
 },
 "nbformat": 4,
 "nbformat_minor": 2
}
